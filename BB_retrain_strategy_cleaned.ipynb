{
 "cells": [
  {
   "cell_type": "markdown",
   "id": "6a618dfc",
   "metadata": {},
   "source": [
    "# BB Retrain Strategy (Refactored)\n",
    "\n",
    "This notebook demonstrates how to use the refactored code modules for data preparation, training, evaluation, and resource monitoring."
   ]
  },
  {
   "cell_type": "code",
   "execution_count": null,
   "id": "b9dae7aa",
   "metadata": {},
   "outputs": [],
   "source": [
    "# Import refactored modules\n",
    "from data_utils import split_cifar10_dataset, filter_by_samples, filter_by_classes, create_subset_dataloaders\n",
    "from evaluate import evaluate_and_log, summarize_exits, plot_exit_distribution, per_class_accuracy, exit_class_heatmap, print_exit_byclass_table, extract_exit_dataset\n",
    "from training import trainEE_KL, inference_loop, retrain_loop\n",
    "from monitor import print_resource_usage"
   ]
  },
  {
   "cell_type": "code",
   "execution_count": null,
   "id": "36d4be38",
   "metadata": {},
   "outputs": [],
   "source": [
    "# Data loading and splitting\n",
    "train_dataset_1, train_dataset_2, test_dataset = split_cifar10_dataset()\n",
    "print(f'Dataset 1 size: {len(train_dataset_1)}')\n",
    "print(f'Dataset 2 size: {len(train_dataset_2)}')"
   ]
  },
  {
   "cell_type": "code",
   "execution_count": null,
   "id": "40ee4c73",
   "metadata": {},
   "outputs": [],
   "source": [
    "# Example: Filter test set by class ratios\n",
    "classes_ratios = {\n",
    "    'airplane': 0.8, 'automobile': 0.8, 'bird': 0.8, 'cat': 0.8,\n",
    "    'deer': 0.6, 'dog': 0.6, 'frog': 0.6,\n",
    "    'horse': 0.1, 'ship': 0.1, 'truck': 0.1\n",
    "} \n",
    "subset = filter_by_samples(test_dataset, classes_ratios, seed=42)\n",
    "print(f'Total samples in subset: {len(subset)}')"
   ]
  },
  {
   "cell_type": "code",
   "execution_count": null,
   "id": "0893faeb",
   "metadata": {},
   "outputs": [],
   "source": [
    "# Create DataLoader for new distribution\n",
    "from torch.utils.data import DataLoader\n",
    "new_distribution_loader = DataLoader(subset, batch_size=64, shuffle=True)"
   ]
  },
  {
   "cell_type": "code",
   "execution_count": null,
   "id": "443382a6",
   "metadata": {},
   "outputs": [],
   "source": [
    "# Example: Evaluate model on new distribution\n",
    "logs = evaluate_and_log(model_with_exits, new_distribution_loader, thresholds=(0.88, 0.54))\n",
    "summarize_exits(logs)\n",
    "plot_exit_distribution(logs)\n",
    "# per_class_accuracy(logs, class_names)  # Uncomment if class_names is defined"
   ]
  },
  {
   "cell_type": "code",
   "execution_count": null,
   "id": "8686d2ea",
   "metadata": {},
   "outputs": [],
   "source": [
    "# Example: Resource monitoring\n",
    "print_resource_usage()"
   ]
  },
  {
   "cell_type": "markdown",
   "id": "47db9f83",
   "metadata": {},
   "source": [
    "## Training and Inference Threads\n",
    "You can use the provided `inference_loop` and `retrain_loop` functions in separate threads for concurrent execution."
   ]
  },
  {
   "cell_type": "code",
   "execution_count": null,
   "id": "0e59091c",
   "metadata": {},
   "outputs": [],
   "source": [
    "import threading\n",
    "model_lock = threading.Lock()\n",
    "# Example: Start inference and retrain threads (uncomment to use)\n",
    "# threading.Thread(target=inference_loop, args=(model_with_exits, new_distribution_loader, model_lock)).start()\n",
    "# threading.Thread(target=retrain_loop, args=(model_with_exits, model_lock)).start()"
   ]
  }
 ],
 "metadata": {
  "language_info": {
   "name": "python"
  }
 },
 "nbformat": 4,
 "nbformat_minor": 5
}
