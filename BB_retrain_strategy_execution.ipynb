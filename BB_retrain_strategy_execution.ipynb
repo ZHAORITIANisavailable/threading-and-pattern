{
 "cells": [
  {
   "cell_type": "markdown",
   "id": "6afea3c2",
   "metadata": {},
   "source": [
    "# BB Retrain Strategy: Execution Patterns\n",
    "\n",
    "This notebook demonstrates how to execute each of the four main patterns using the refactored modular code. Each section below runs one pattern and provides a place to analyze results."
   ]
  },
  {
   "cell_type": "markdown",
   "id": "92ca10a6",
   "metadata": {},
   "source": [
    "## Load the model and test its accuracy\n"
   ]
  },
  {
   "cell_type": "code",
   "execution_count": 1,
   "id": "51b6dc1c",
   "metadata": {},
   "outputs": [
    {
     "name": "stderr",
     "output_type": "stream",
     "text": [
      "C:\\Users\\Zhao\\AppData\\Local\\Temp\\ipykernel_11948\\705956629.py:8: FutureWarning: You are using `torch.load` with `weights_only=False` (the current default value), which uses the default pickle module implicitly. It is possible to construct malicious pickle data which will execute arbitrary code during unpickling (See https://github.com/pytorch/pytorch/blob/main/SECURITY.md#untrusted-models for more details). In a future release, the default value for `weights_only` will be flipped to `True`. This limits the functions that could be executed during unpickling. Arbitrary objects will no longer be allowed to be loaded via this mode unless they are explicitly allowlisted by the user via `torch.serialization.add_safe_globals`. We recommend you start setting `weights_only=True` for any use case where you don't have full control of the loaded file. Please open an issue on GitHub for any issues related to this experimental feature.\n",
      "  model_with_exits.load_state_dict(torch.load('model_with_exits_new.pth'))\n"
     ]
    },
    {
     "name": "stdout",
     "output_type": "stream",
     "text": [
      "Files already downloaded and verified\n",
      "Files already downloaded and verified\n",
      "Dataset 1 size: 25000\n",
      "Dataset 2 size: 25000\n"
     ]
    }
   ],
   "source": [
    "import torch\n",
    "# Load the model and test its accuracy\n",
    "from RESNETEE import ResNet18AutoEarlyExits\n",
    "from spliter import split_cifar10_dataset\n",
    "from evaluate import accuracy_EE_byclass\n",
    "from torch.utils.data import DataLoader, Subset\n",
    "model_with_exits = ResNet18AutoEarlyExits()\n",
    "model_with_exits.load_state_dict(torch.load('model_with_exits_new.pth'))\n",
    "model_with_exits.cuda()\n",
    "# model_with_exits.train()  # 默认开启训练模式以支持后续 retrain\n",
    "model_with_exits.eval()  # 切换到评估模式\n",
    "# Example: Evaluate accuracy on test set\n",
    "datasets = split_cifar10_dataset()\n",
    "\n",
    "if datasets is not None:\n",
    "\ttrain_dataset_1, train_dataset_2, test_dataset = datasets\n",
    "\tprint(f'Dataset 1 size: {len(train_dataset_1)}')\n",
    "\tprint(f'Dataset 2 size: {len(train_dataset_2)}')\n",
    "\ttrain_loader_1 = DataLoader(train_dataset_1, batch_size=64, shuffle=True)\n",
    "\ttrain_loader_2 = DataLoader(train_dataset_2, batch_size=64, shuffle=True)\n",
    "\ttest_loader = DataLoader(test_dataset, batch_size=64, shuffle=False)\n",
    "else:\n",
    "\tprint(\"split_cifar10_dataset() returned None. Please check its implementation.\")\n",
    "\n",
    "\n",
    "\n"
   ]
  },
  {
   "cell_type": "code",
   "execution_count": null,
   "id": "92bd058c",
   "metadata": {},
   "outputs": [],
   "source": [
    "\n",
    "acc1 = accuracy_EE_byclass(model_with_exits, test_loader, return_exit1=True, return_exit2=False)\n",
    "\n",
    "acc2 = accuracy_EE_byclass(model_with_exits, test_loader, return_exit1=False, return_exit2=True)\n",
    "\n",
    "acc3 = accuracy_EE_byclass(model_with_exits, test_loader, return_exit1=False, return_exit2=False)\n",
    "\n",
    "import pandas as pd\n",
    "\n",
    "results = {\n",
    "    \"Exit 1 Only\": acc1,\n",
    "    \"Exit 2 Only\": acc2,\n",
    "    \"Main Exit Only\": acc3\n",
    "}\n",
    "df = pd.DataFrame(results)\n",
    "print(df)"
   ]
  },
  {
   "cell_type": "markdown",
   "id": "c64cabef",
   "metadata": {},
   "source": [
    "### The model is primarily trained with airpalne automobile ship truck for EE1, airplane automobile bird deer dog for EE2.\n",
    " Then we change the priority of classes to:\n",
    "          most popular :'airplane''automobile''bird''cat'\n",
    "           second popular :     'deer' 'dog' 'frog'\n"
   ]
  },
  {
   "cell_type": "code",
   "execution_count": 2,
   "id": "30b561ce",
   "metadata": {},
   "outputs": [],
   "source": [
    "# training data prepared for retraining EE1\n",
    "\n",
    "# Function to filter dataset by classes\n",
    "def filter_by_classes(dataset, classes_to_include):\n",
    "    class_indices = [dataset.class_to_idx[cls] for cls in classes_to_include]\n",
    "    indices = [i for i, (_, label) in enumerate(dataset.samples) if label in class_indices]\n",
    "    return Subset(dataset, indices)\n",
    "\n",
    "# Define the four classes and the remaining six classes\n",
    "classes_subset1a = ['airplane', 'automobile', 'bird', 'cat'] \n",
    "classes_subset1b =  ['ship', 'truck','deer', 'dog', 'frog', 'horse'] # Remaining classes \n",
    "\n",
    "# Create subsets for the four classes and the other six classes\n",
    "subset1a = {'train':filter_by_classes(train_dataset_1, classes_subset1a),\n",
    "              'test':filter_by_classes(test_dataset, classes_subset1a)}\n",
    "subset1b = {'train':filter_by_classes(train_dataset_1, classes_subset1b),\n",
    "            'test':filter_by_classes(test_dataset, classes_subset1b)}\n",
    "# Create DataLoaders for each subset\n",
    "dataloaders_subset1a = {\n",
    "    'train': DataLoader(subset1a['train'], batch_size=64, shuffle=True, num_workers=4),\n",
    "    'test': DataLoader(subset1a['test'], batch_size=64, shuffle=False, num_workers=4)\n",
    "}\n",
    "dataloaders_subset1b = {\n",
    "    'train': DataLoader(subset1b['train'], batch_size=64, shuffle=True, num_workers=4),\n",
    "    'test': DataLoader(subset1b['test'], batch_size=64, shuffle=False, num_workers=4)\n",
    "}\n",
    "\n",
    "# training data prepared for retraining EE2\n",
    "# Define the four classes and the remaining six classes\n",
    "classes_subset2a = ['airplane','automobile', 'bird','cat','deer', 'dog','frog' ]\n",
    "classes_subset2b =  [ 'horse','ship', 'truck'] # Remaining classes \n",
    "# Create subsets for the four classes and the other six classes\n",
    "subset2a = {'train':filter_by_classes(train_dataset_1, classes_subset2a),\n",
    "              'test':filter_by_classes(test_dataset, classes_subset2a)}\n",
    "subset2b = {'train':filter_by_classes(train_dataset_1, classes_subset2b),\n",
    "            'test':filter_by_classes(test_dataset, classes_subset2b)}\n",
    "# Create DataLoaders for each subset\n",
    "dataloaders_subset2a = {\n",
    "    'train': DataLoader(subset2a['train'], batch_size=64, shuffle=True, num_workers=4),\n",
    "    'test': DataLoader(subset2a['test'], batch_size=64, shuffle=False, num_workers=4)\n",
    "}\n",
    "dataloaders_subset2b = {\n",
    "    'train': DataLoader(subset2b['train'], batch_size=64, shuffle=True, num_workers=4),\n",
    "    'test': DataLoader(subset2b['test'], batch_size=64, shuffle=False, num_workers=4)\n",
    "}\n",
    "# train_loader_1, train_loader_2    # already defined above"
   ]
  },
  {
   "cell_type": "markdown",
   "id": "0bd62cdd",
   "metadata": {},
   "source": [
    "# Single Exit training profiling"
   ]
  },
  {
   "cell_type": "code",
   "execution_count": 3,
   "id": "9be9668b",
   "metadata": {},
   "outputs": [],
   "source": [
    "def run_with_profiler(run_fn, log_name='default_profiler_log', steps=5, *args, **kwargs):\n",
    "    \"\"\"\n",
    "    Run a given function with torch.profiler enabled, tracing CPU/CUDA performance.\n",
    "\n",
    "    Parameters:\n",
    "    - run_fn: the target function to execute (e.g., run_shared_parallel_execution)\n",
    "    - log_name: the output directory name for the profiler logs (under ./log/)\n",
    "    - steps: how many steps of profiling to activate (affects visualization granularity)\n",
    "    - *args, **kwargs: arguments to pass to run_fn\n",
    "\n",
    "    Returns:\n",
    "    - the result of run_fn(*args, **kwargs)\n",
    "    \"\"\"\n",
    "    import os\n",
    "    from torch.profiler import profile, ProfilerActivity, tensorboard_trace_handler\n",
    "    os.makedirs(f'./log/{log_name}', exist_ok=True)\n",
    "\n",
    "    with profile(\n",
    "        activities=[ProfilerActivity.CPU, ProfilerActivity.CUDA],\n",
    "        schedule=torch.profiler.schedule(wait=1, warmup=1, active=steps),\n",
    "        on_trace_ready=tensorboard_trace_handler(f'./log/{log_name}'),\n",
    "        record_shapes=True,\n",
    "        profile_memory=True,\n",
    "        with_stack=True\n",
    "    ) as prof:\n",
    "        result = run_fn(*args, **kwargs)\n",
    "        for _ in range(steps):\n",
    "            prof.step()\n",
    "\n",
    "    return result"
   ]
  },
  {
   "cell_type": "code",
   "execution_count": 4,
   "id": "03db5f15",
   "metadata": {},
   "outputs": [
    {
     "name": "stdout",
     "output_type": "stream",
     "text": [
      "[SingleExit] 启动训练线程 Exit1 ...\n",
      "\n",
      "Epoch 1/5\n",
      "----------\n",
      "test Acc: 93.45000\n",
      "Train Loss: 0.3204 | ID Acc: 0.8658 | OOD Certainty: 0.2580\n",
      "\n",
      "Epoch 2/5\n",
      "----------\n",
      "test Acc: 93.45000\n",
      "Train Loss: 0.1977 | ID Acc: 0.9391 | OOD Certainty: 0.2391\n",
      "\n",
      "Epoch 3/5\n",
      "----------\n",
      "test Acc: 93.50000\n",
      "Train Loss: 0.1713 | ID Acc: 0.9480 | OOD Certainty: 0.2283\n",
      "\n",
      "Epoch 4/5\n",
      "----------\n",
      "test Acc: 93.45000\n",
      "Train Loss: 0.1554 | ID Acc: 0.9564 | OOD Certainty: 0.2216\n",
      "\n",
      "Epoch 5/5\n",
      "----------\n",
      "test Acc: 93.60000\n",
      "Train Loss: 0.1463 | ID Acc: 0.9548 | OOD Certainty: 0.2139\n",
      "[训练 Exit1 耗时] 耗时: 157.57 秒\n",
      "\n",
      "[SingleExit] Exit1 训练完成\n"
     ]
    }
   ],
   "source": [
    "\n",
    "\n",
    "from controllers import run_single_exit_training\n",
    "\n",
    "run_with_profiler(\n",
    "    run_fn=run_single_exit_training,\n",
    "    log_name='prof_train_EE1',\n",
    "    steps=5,\n",
    "    model=model_with_exits,\n",
    "    dataloaders_subset_a=dataloaders_subset1a,\n",
    "    dataloaders_subset_b=dataloaders_subset1b,\n",
    "    exit_number=1\n",
    ")"
   ]
  },
  {
   "cell_type": "markdown",
   "id": "f90d7d28",
   "metadata": {},
   "source": [
    "## Pattern A Execution\n",
    "Run the early exits training and main brabch only inference workflow."
   ]
  },
  {
   "cell_type": "code",
   "execution_count": null,
   "id": "bcd531bf",
   "metadata": {},
   "outputs": [
    {
     "name": "stderr",
     "output_type": "stream",
     "text": [
      "C:\\Users\\Zhao\\AppData\\Local\\Temp\\ipykernel_7912\\2433265924.py:10: FutureWarning: You are using `torch.load` with `weights_only=False` (the current default value), which uses the default pickle module implicitly. It is possible to construct malicious pickle data which will execute arbitrary code during unpickling (See https://github.com/pytorch/pytorch/blob/main/SECURITY.md#untrusted-models for more details). In a future release, the default value for `weights_only` will be flipped to `True`. This limits the functions that could be executed during unpickling. Arbitrary objects will no longer be allowed to be loaded via this mode unless they are explicitly allowlisted by the user via `torch.serialization.add_safe_globals`. We recommend you start setting `weights_only=True` for any use case where you don't have full control of the loaded file. Please open an issue on GitHub for any issues related to this experimental feature.\n",
      "  model_with_exits.load_state_dict(torch.load('model_with_exits_new.pth'))\n"
     ]
    },
    {
     "name": "stdout",
     "output_type": "stream",
     "text": [
      "[FullSuspension] 启动推理线程...[FullSuspension] 第一阶段：训练 Exit1 (Exit2 和主干处理推理)...\n",
      "\n",
      "\n",
      "Epoch 1/5\n",
      "----------\n",
      "test Acc: 93.47500\n",
      "Train Loss: 0.3171 | ID Acc: 0.8647 | OOD Certainty: 0.2577\n",
      "\n",
      "Epoch 2/5\n",
      "----------\n",
      "test Acc: 93.27500\n",
      "Train Loss: 0.2006 | ID Acc: 0.9344 | OOD Certainty: 0.2406\n",
      "\n",
      "Epoch 3/5\n",
      "----------\n",
      "[FullSuspension] 推理线程结束\n",
      "test Acc: 93.27500\n",
      "Train Loss: 0.1699 | ID Acc: 0.9473 | OOD Certainty: 0.2286\n",
      "\n",
      "Epoch 4/5\n",
      "----------\n",
      "test Acc: 93.27500\n",
      "Train Loss: 0.1506 | ID Acc: 0.9611 | OOD Certainty: 0.2195\n",
      "\n",
      "Epoch 5/5\n",
      "----------\n",
      "test Acc: 93.30000\n",
      "Train Loss: 0.1404 | ID Acc: 0.9624 | OOD Certainty: 0.2141\n",
      "[训练 Exit1 耗时] 耗时: 158.30 秒\n",
      "\n",
      "[FullSuspension] 第二阶段：训练 Exit2 (Exit1 和主干处理推理)...\n",
      "\n",
      "Epoch 1/5\n",
      "----------\n",
      "test Acc: 94.90000\n",
      "Train Loss: 0.1250 | ID Acc: 0.9849 | OOD Certainty: 0.1281\n",
      "\n",
      "Epoch 2/5\n",
      "----------\n",
      "test Acc: 94.87143\n",
      "Train Loss: 0.0237 | ID Acc: 0.9945 | OOD Certainty: 0.1102\n",
      "\n",
      "Epoch 3/5\n",
      "----------\n",
      "test Acc: 94.85714\n",
      "Train Loss: 0.0194 | ID Acc: 0.9955 | OOD Certainty: 0.1083\n",
      "\n",
      "Epoch 4/5\n",
      "----------\n",
      "test Acc: 94.91429\n",
      "Train Loss: 0.0115 | ID Acc: 0.9967 | OOD Certainty: 0.1059\n",
      "\n",
      "Epoch 5/5\n",
      "----------\n",
      "test Acc: 94.87143\n",
      "Train Loss: 0.0170 | ID Acc: 0.9953 | OOD Certainty: 0.1076\n",
      "[训练 Exit2 耗时] 耗时: 167.22 秒\n",
      "\n",
      "\n",
      "[可视化] 第一阶段各出口类别分布\n"
     ]
    },
    {
     "ename": "NameError",
     "evalue": "name 'plt' is not defined",
     "output_type": "error",
     "traceback": [
      "\u001b[1;31m---------------------------------------------------------------------------\u001b[0m",
      "\u001b[1;31mNameError\u001b[0m                                 Traceback (most recent call last)",
      "Cell \u001b[1;32mIn[5], line 25\u001b[0m\n\u001b[0;32m     23\u001b[0m controller1 \u001b[38;5;241m=\u001b[39m TrainingController()  \u001b[38;5;66;03m# 控制 Exit1 的训练\u001b[39;00m\n\u001b[0;32m     24\u001b[0m controller2 \u001b[38;5;241m=\u001b[39m TrainingController()  \u001b[38;5;66;03m# 控制 Exit2 的训练\u001b[39;00m\n\u001b[1;32m---> 25\u001b[0m results, latency_logs, exit_logs \u001b[38;5;241m=\u001b[39m \u001b[43mrun_full_suspension_parallel_realtime_logging\u001b[49m\u001b[43m(\u001b[49m\n\u001b[0;32m     26\u001b[0m \u001b[43m    \u001b[49m\u001b[43mmodel_with_exits\u001b[49m\u001b[43m,\u001b[49m\n\u001b[0;32m     27\u001b[0m \u001b[43m    \u001b[49m\u001b[43mdataloaders_subset1a\u001b[49m\u001b[43m,\u001b[49m\n\u001b[0;32m     28\u001b[0m \u001b[43m    \u001b[49m\u001b[43mdataloaders_subset1b\u001b[49m\u001b[43m,\u001b[49m\n\u001b[0;32m     29\u001b[0m \u001b[43m    \u001b[49m\u001b[43mdataloaders_subset2a\u001b[49m\u001b[43m,\u001b[49m\n\u001b[0;32m     30\u001b[0m \u001b[43m    \u001b[49m\u001b[43mdataloaders_subset2b\u001b[49m\u001b[43m,\u001b[49m\n\u001b[0;32m     31\u001b[0m \u001b[43m    \u001b[49m\u001b[43mcontroller1\u001b[49m\u001b[43m,\u001b[49m\n\u001b[0;32m     32\u001b[0m \u001b[43m    \u001b[49m\u001b[43mcontroller2\u001b[49m\u001b[43m,\u001b[49m\n\u001b[0;32m     33\u001b[0m \u001b[43m    \u001b[49m\u001b[43mtest_loader\u001b[49m\u001b[43m,\u001b[49m\n\u001b[0;32m     34\u001b[0m \u001b[43m    \u001b[49m\u001b[43mTimer\u001b[49m\u001b[43m,\u001b[49m\n\u001b[0;32m     35\u001b[0m \u001b[43m    \u001b[49m\u001b[43mtrainEE_KL\u001b[49m\u001b[43m,\u001b[49m\n\u001b[0;32m     36\u001b[0m \u001b[43m    \u001b[49m\u001b[43mdevice\u001b[49m\u001b[38;5;241;43m=\u001b[39;49m\u001b[38;5;124;43m'\u001b[39;49m\u001b[38;5;124;43mcuda\u001b[39;49m\u001b[38;5;124;43m'\u001b[39;49m\u001b[43m,\u001b[49m\n\u001b[0;32m     37\u001b[0m \u001b[43m    \u001b[49m\u001b[43mvisualize\u001b[49m\u001b[38;5;241;43m=\u001b[39;49m\u001b[38;5;28;43;01mTrue\u001b[39;49;00m\n\u001b[0;32m     38\u001b[0m \u001b[43m)\u001b[49m\n",
      "File \u001b[1;32mc:\\Users\\Zhao\\OpenOOD-main\\threading and pattern\\controllers.py:463\u001b[0m, in \u001b[0;36mrun_full_suspension_parallel_realtime_logging\u001b[1;34m(model, dataloaders_subset1a, dataloaders_subset1b, dataloaders_subset2a, dataloaders_subset2b, controller1, controller2, inference_loader, Timer, trainEE_KL, device, visualize)\u001b[0m\n\u001b[0;32m    461\u001b[0m \u001b[38;5;28;01mif\u001b[39;00m visualize:\n\u001b[0;32m    462\u001b[0m     \u001b[38;5;28mprint\u001b[39m(\u001b[38;5;124m\"\u001b[39m\u001b[38;5;130;01m\\n\u001b[39;00m\u001b[38;5;124m[可视化] 第一阶段各出口类别分布\u001b[39m\u001b[38;5;124m\"\u001b[39m)\n\u001b[1;32m--> 463\u001b[0m     \u001b[43m_visualize_exit_distribution\u001b[49m\u001b[43m(\u001b[49m\u001b[43minference_logs_phase1\u001b[49m\u001b[43m,\u001b[49m\u001b[43m \u001b[49m\u001b[43mtitle_suffix\u001b[49m\u001b[38;5;241;43m=\u001b[39;49m\u001b[38;5;124;43m\"\u001b[39;49m\u001b[38;5;124;43m(Phase 1)\u001b[39;49m\u001b[38;5;124;43m\"\u001b[39;49m\u001b[43m)\u001b[49m\n\u001b[0;32m    464\u001b[0m     \u001b[38;5;28mprint\u001b[39m(\u001b[38;5;124m\"\u001b[39m\u001b[38;5;130;01m\\n\u001b[39;00m\u001b[38;5;124m[可视化] 第二阶段各出口类别分布\u001b[39m\u001b[38;5;124m\"\u001b[39m)\n\u001b[0;32m    465\u001b[0m     _visualize_exit_distribution(inference_logs_phase2, title_suffix\u001b[38;5;241m=\u001b[39m\u001b[38;5;124m\"\u001b[39m\u001b[38;5;124m(Phase 2)\u001b[39m\u001b[38;5;124m\"\u001b[39m)\n",
      "File \u001b[1;32mc:\\Users\\Zhao\\OpenOOD-main\\threading and pattern\\controllers.py:76\u001b[0m, in \u001b[0;36m_visualize_exit_distribution\u001b[1;34m(log_dict, title_suffix)\u001b[0m\n\u001b[0;32m     73\u001b[0m exit_class_dist\u001b[38;5;241m.\u001b[39mcolumns \u001b[38;5;241m=\u001b[39m class_names\n\u001b[0;32m     75\u001b[0m exit_class_dist\u001b[38;5;241m.\u001b[39mT\u001b[38;5;241m.\u001b[39mplot(kind\u001b[38;5;241m=\u001b[39m\u001b[38;5;124m'\u001b[39m\u001b[38;5;124mbar\u001b[39m\u001b[38;5;124m'\u001b[39m, figsize\u001b[38;5;241m=\u001b[39m(\u001b[38;5;241m10\u001b[39m, \u001b[38;5;241m5\u001b[39m))\n\u001b[1;32m---> 76\u001b[0m \u001b[43mplt\u001b[49m\u001b[38;5;241m.\u001b[39mtitle(\u001b[38;5;124mf\u001b[39m\u001b[38;5;124m\"\u001b[39m\u001b[38;5;124mExit-wise Class Distribution \u001b[39m\u001b[38;5;132;01m{\u001b[39;00mtitle_suffix\u001b[38;5;132;01m}\u001b[39;00m\u001b[38;5;124m\"\u001b[39m)\n\u001b[0;32m     77\u001b[0m plt\u001b[38;5;241m.\u001b[39mxlabel(\u001b[38;5;124m\"\u001b[39m\u001b[38;5;124mClass\u001b[39m\u001b[38;5;124m\"\u001b[39m)\n\u001b[0;32m     78\u001b[0m plt\u001b[38;5;241m.\u001b[39mylabel(\u001b[38;5;124m\"\u001b[39m\u001b[38;5;124mSample Count\u001b[39m\u001b[38;5;124m\"\u001b[39m)\n",
      "\u001b[1;31mNameError\u001b[0m: name 'plt' is not defined"
     ]
    },
    {
     "data": {
      "image/png": "[encoded data removed]",
      "text/plain": [
       "<Figure size 1000x500 with 1 Axes>"
      ]
     },
     "metadata": {},
     "output_type": "display_data"
    }
   ],
   "source": [
    "# Imports and setup for all patterns\n",
    "from controllers import *\n",
    "from data_utils import *\n",
    "from evaluate import *\n",
    "from training import *\n",
    "from monitor import *\n",
    "\n",
    "\n",
    "# ... (add any other setup or utility imports needed)\n",
    "\n",
    "model_with_exits.load_state_dict(torch.load('model_with_exits_new.pth'))\n",
    "model_with_exits.cuda()\n",
    "# model_with_exits.train()  # 默认开启训练模式以支持后续 retrain\n",
    "model_with_exits.eval()  # 切换到评估模式\n",
    "model = model_with_exits  # Use the previously defined model\n",
    "\n",
    "# dataloaders_subset1a = ...\n",
    "# dataloaders_subset1b = ...\n",
    "# dataloaders_subset2a = ...\n",
    "# dataloaders_subset2b = ...\n",
    "# === 创建两个控制器实例 ===\n",
    "\n",
    "\n",
    "controller1 = TrainingController()  # 控制 Exit1 的训练\n",
    "controller2 = TrainingController()  # 控制 Exit2 的训练\n",
    "results, latency_logs, exit_logs = run_full_suspension_parallel_realtime_logging(\n",
    "    model_with_exits,\n",
    "    dataloaders_subset1a,\n",
    "    dataloaders_subset1b,\n",
    "    dataloaders_subset2a,\n",
    "    dataloaders_subset2b,\n",
    "    controller1,\n",
    "    controller2,\n",
    "    test_loader,\n",
    "    Timer,\n",
    "    trainEE_KL,\n",
    "    device='cuda',\n",
    "    visualize=True\n",
    ")\n",
    "# inference_loader = ...\n",
    "# Timer = ...\n",
    "# trainEE_KL = ...\n",
    "# _visualize_exit_distribution = ...\n",
    "# analyze_exit_logs_with_accuracy = ...\n",
    "# class_names = ..."
   ]
  },
  {
   "cell_type": "markdown",
   "id": "b1b7a857",
   "metadata": {},
   "source": [
    "## Pattern B Execution\n",
    "Run the two-stage training and inference workflow (Pattern B)."
   ]
  },
  {
   "cell_type": "code",
   "execution_count": 6,
   "id": "33f879b0",
   "metadata": {},
   "outputs": [
    {
     "ename": "NameError",
     "evalue": "name 'model' is not defined",
     "output_type": "error",
     "traceback": [
      "\u001b[1;31m---------------------------------------------------------------------------\u001b[0m",
      "\u001b[1;31mNameError\u001b[0m                                 Traceback (most recent call last)",
      "Cell \u001b[1;32mIn[6], line 3\u001b[0m\n\u001b[0;32m      1\u001b[0m \u001b[38;5;66;03m# Run Pattern B Execution\u001b[39;00m\n\u001b[0;32m      2\u001b[0m results_b, latency_logs_b, exit_logs_b \u001b[38;5;241m=\u001b[39m run_patternB_execution(\n\u001b[1;32m----> 3\u001b[0m     \u001b[43mmodel\u001b[49m,\n\u001b[0;32m      4\u001b[0m     dataloaders_subset1a,\n\u001b[0;32m      5\u001b[0m     dataloaders_subset1b,\n\u001b[0;32m      6\u001b[0m     dataloaders_subset2a,\n\u001b[0;32m      7\u001b[0m     dataloaders_subset2b,\n\u001b[0;32m      8\u001b[0m     controller1,\n\u001b[0;32m      9\u001b[0m     controller2,\n\u001b[0;32m     10\u001b[0m     inference_loader,\n\u001b[0;32m     11\u001b[0m     Timer,\n\u001b[0;32m     12\u001b[0m     trainEE_KL,\n\u001b[0;32m     13\u001b[0m     _visualize_exit_distribution,\n\u001b[0;32m     14\u001b[0m     analyze_exit_logs_with_accuracy,\n\u001b[0;32m     15\u001b[0m     device\u001b[38;5;241m=\u001b[39m\u001b[38;5;124m'\u001b[39m\u001b[38;5;124mcuda\u001b[39m\u001b[38;5;124m'\u001b[39m\n\u001b[0;32m     16\u001b[0m )\n\u001b[0;32m     17\u001b[0m results_b\n",
      "\u001b[1;31mNameError\u001b[0m: name 'model' is not defined"
     ]
    }
   ],
   "source": [
    "# Run Pattern B Execution\n",
    "results_b, latency_logs_b, exit_logs_b = run_patternB_execution(\n",
    "    model,\n",
    "    dataloaders_subset1a,\n",
    "    dataloaders_subset1b,\n",
    "    dataloaders_subset2a,\n",
    "    dataloaders_subset2b,\n",
    "    controller1,\n",
    "    controller2,\n",
    "    inference_loader,\n",
    "    Timer,\n",
    "    trainEE_KL,\n",
    "    _visualize_exit_distribution,\n",
    "    analyze_exit_logs_with_accuracy,\n",
    "    device='cuda'\n",
    ")\n",
    "results_b"
   ]
  },
  {
   "cell_type": "markdown",
   "id": "9fa39a71",
   "metadata": {},
   "source": [
    "## Pattern O (No Training) Execution\n",
    "Run the inference-only workflow (Pattern O)."
   ]
  },
  {
   "cell_type": "code",
   "execution_count": null,
   "id": "d002a006",
   "metadata": {},
   "outputs": [],
   "source": [
    "# Run Pattern O (No Training) Execution\n",
    "results_o, latency_logs_o, exit_logs_o = run_pattern_O_no_training(\n",
    "    model,\n",
    "    inference_loader,\n",
    "    _visualize_exit_distribution,\n",
    "    analyze_exit_logs_with_accuracy,\n",
    "    class_names,\n",
    "    device='cuda'\n",
    ")\n",
    "results_o"
   ]
  },
  {
   "cell_type": "markdown",
   "id": "93c3f32a",
   "metadata": {},
   "source": [
    "## Full Suspension Parallel Realtime Logging Execution\n",
    "Run the full suspension parallel training and inference workflow."
   ]
  },
  {
   "cell_type": "code",
   "execution_count": null,
   "id": "57c923ab",
   "metadata": {},
   "outputs": [],
   "source": [
    "# Run Full Suspension Parallel Realtime Logging Execution\n",
    "results_full, latency_logs_full, exit_logs_full = run_full_suspension_parallel_realtime_logging(\n",
    "    model,\n",
    "    dataloaders_subset1a,\n",
    "    dataloaders_subset1b,\n",
    "    dataloaders_subset2a,\n",
    "    dataloaders_subset2b,\n",
    "    controller1,\n",
    "    controller2,\n",
    "    inference_loader,\n",
    "    Timer,\n",
    "    trainEE_KL,\n",
    "    _visualize_exit_distribution,\n",
    "    analyze_exit_logs_with_accuracy,\n",
    "    device='cuda'\n",
    ")\n",
    "results_full"
   ]
  },
  {
   "cell_type": "markdown",
   "id": "902e35c3",
   "metadata": {},
   "source": [
    "## Shared Parallel Execution\n",
    "Run the shared parallel training and inference workflow."
   ]
  },
  {
   "cell_type": "code",
   "execution_count": null,
   "id": "431ab592",
   "metadata": {},
   "outputs": [],
   "source": [
    "# Run Shared Parallel Execution\n",
    "results_shared, latency_logs_shared, exit_logs_shared = run_shared_parallel_execution(\n",
    "    model,\n",
    "    controller1,\n",
    "    controller2,\n",
    "    inference_loader,\n",
    "    dataloaders_subset1a,\n",
    "    dataloaders_subset1b,\n",
    "    dataloaders_subset2a,\n",
    "    dataloaders_subset2b,\n",
    "    Timer,\n",
    "    trainEE_KL,\n",
    "    _visualize_exit_distribution,\n",
    "    analyze_exit_logs_with_accuracy,\n",
    "    class_names,\n",
    "    device='cuda'\n",
    ")\n",
    "results_shared"
   ]
  }
 ],
 "metadata": {
  "kernelspec": {
   "display_name": "openood",
   "language": "python",
   "name": "python3"
  },
  "language_info": {
   "codemirror_mode": {
    "name": "ipython",
    "version": 3
   },
   "file_extension": ".py",
   "mimetype": "text/x-python",
   "name": "python",
   "nbconvert_exporter": "python",
   "pygments_lexer": "ipython3",
   "version": "3.10.14"
  }
 },
 "nbformat": 4,
 "nbformat_minor": 5
}
